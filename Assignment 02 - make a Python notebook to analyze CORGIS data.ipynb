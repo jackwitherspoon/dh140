{
 "cells": [
  {
   "cell_type": "markdown",
   "id": "7dadebbb-04e8-4c23-9bd0-e34f95fe7732",
   "metadata": {},
   "source": [
    "Title: Assignment 02 - make a Python notebook to analyze CORGIS data\n",
    "\n",
    "Name: Jack Witherspoon\n",
    "\n",
    "Link to Data Set: https://corgis-edu.github.io/corgis/csv/finance/\n",
    "\n",
    "Description: The Annual Survey of State Government Finances provides a comprehensive summary of the annual survey findings for state governments, as well as data for individual states. The data contain detail of revenue by source, expenditure by object and function, indebtedness by term, and assets by purpose. This data goes back for almost two decades across every date. (1992 - 2019)"
   ]
  },
  {
   "cell_type": "code",
   "execution_count": 19,
   "id": "f7ed101e-28ac-4e7b-89fc-7555cd8dfe51",
   "metadata": {},
   "outputs": [],
   "source": [
    "#commands to read the datafile\n",
    "\n",
    "import numpy as np\n",
    "import csv"
   ]
  },
  {
   "cell_type": "code",
   "execution_count": 30,
   "id": "38d58945-318d-4d56-9478-e1c9554a7430",
   "metadata": {},
   "outputs": [
    {
     "name": "stdout",
     "output_type": "stream",
     "text": [
      "Mean of Total Revenue :             30164819.108468127\n"
     ]
    }
   ],
   "source": [
    "#mathematical operation\n",
    "\n",
    "readdata = csv.reader(open('finance.csv', 'r'))\n",
    "data = []\n",
    "\n",
    "for row in readdata:\n",
    "  data.append(row)\n",
    "\n",
    "\n",
    "data.pop(0) \n",
    "\n",
    "q1 = []  \n",
    "\n",
    "for i in range(len(data)):\n",
    "  q1.append(int(data[i][4]))\n",
    "\n",
    "print ('Mean of Total Revenue :            ', (np.mean(q1)))\n",
    "\n",
    "#Output is the mean of Total Revenue"
   ]
  },
  {
   "cell_type": "markdown",
   "id": "b7aa5993-0d34-486a-8193-d4020982f434",
   "metadata": {},
   "source": [
    "In the previous cell I calculated the mean National Historical revenue."
   ]
  },
  {
   "cell_type": "code",
   "execution_count": 37,
   "id": "fe755aab-f9d6-451d-bbbc-05f7ba4e05d3",
   "metadata": {},
   "outputs": [
    {
     "name": "stdout",
     "output_type": "stream",
     "text": [
      "Historical average is less than California Revenue for 2019\n"
     ]
    }
   ],
   "source": [
    "#conditional expression\n",
    "\n",
    "California_Revenue2019 = 42679413\n",
    "Historical_Average_Revenue = np.mean(q1)\n",
    "\n",
    "\n",
    "if Historical_Average_Revenue > California_Revenue2019:\n",
    "  print(\"Historical average is greater than California Revenue for 2019\")\n",
    "else: \n",
    "    print(\"Historical average is less than California Revenue for 2019\")"
   ]
  },
  {
   "cell_type": "markdown",
   "id": "5bca2f26-d27f-4164-80f1-cee1a8797b8a",
   "metadata": {},
   "source": [
    "The conditional expression compares the historical national average revenue and the revenue of California in 2019. The result shows that the revenue of California is greater than the historical average."
   ]
  },
  {
   "cell_type": "code",
   "execution_count": 67,
   "id": "5779d959-9f28-43fa-9c85-a1af8529e9fa",
   "metadata": {},
   "outputs": [
    {
     "name": "stdout",
     "output_type": "stream",
     "text": [
      "101998668\n",
      "108901718\n",
      "115227902\n",
      "118303386\n",
      "123342274\n",
      "131099489\n",
      "144984973\n",
      "154016720\n",
      "172480675\n",
      "176080892\n",
      "151245388\n",
      "195545076\n",
      "229698348\n",
      "242002515\n",
      "312974848\n",
      "344302107\n",
      "317407713\n",
      "323312514\n",
      "404602274\n",
      "430760445\n",
      "436479413\n"
     ]
    }
   ],
   "source": [
    "#for loop\n",
    "\n",
    "Revenue_of_California_Through_Time = [101998668, 108901718,115227902, 118303386, 123342274, 131099489, 144984973, 154016720, 172480675, 176080892, 151245388, 195545076, 229698348, 242002515, 312974848, 344302107, 317407713, 323312514, 404602274, 430760445, 436479413]\n",
    "\n",
    "\n",
    "for x in Revenue_of_California_Through_Time:\n",
    "  print(x) \n",
    "  if x <np.mean(q1) :\n",
    "    break\n"
   ]
  },
  {
   "cell_type": "markdown",
   "id": "5096e2ff-48fd-4b14-8806-fc83ad4d8a7d",
   "metadata": {},
   "source": [
    "The for loop runs through a list I created from the data of the revenue of California and compares it to the historical average revenue. The for loop runs through all the items in the list meaning that the revenue of Califonia has always been above the national historical average."
   ]
  },
  {
   "cell_type": "code",
   "execution_count": 62,
   "id": "8a6858c9-b680-4dd6-9edd-410f618b6cff",
   "metadata": {},
   "outputs": [
    {
     "data": {
      "text/plain": [
       "72844232.10846813"
      ]
     },
     "execution_count": 62,
     "metadata": {},
     "output_type": "execute_result"
    }
   ],
   "source": [
    "#function (both a new function definition and an execution of that function) & module import and use of the module somewhere in the code\n",
    "\n",
    "%run ./Assignment02Module.ipynb\n",
    "\n",
    "sum_2_items(Historical_Average_Revenue, California_Revenue2019)"
   ]
  },
  {
   "cell_type": "markdown",
   "id": "794b441a-516d-493c-be4e-36f68e2fcbfe",
   "metadata": {},
   "source": [
    "The previous cell utilizes a module and a function to sum the historical average revenue and california revenue in 2019"
   ]
  }
 ],
 "metadata": {
  "kernelspec": {
   "display_name": "Python 3 (ipykernel)",
   "language": "python",
   "name": "python3"
  },
  "language_info": {
   "codemirror_mode": {
    "name": "ipython",
    "version": 3
   },
   "file_extension": ".py",
   "mimetype": "text/x-python",
   "name": "python",
   "nbconvert_exporter": "python",
   "pygments_lexer": "ipython3",
   "version": "3.9.6"
  }
 },
 "nbformat": 4,
 "nbformat_minor": 5
}
