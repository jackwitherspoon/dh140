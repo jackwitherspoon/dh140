{
 "cells": [
  {
   "cell_type": "markdown",
   "id": "b6c2cd59-35b9-4369-97ce-f2d9a17ecb6a",
   "metadata": {},
   "source": [
    "Step 1: Make a new Jupyter notebook."
   ]
  },
  {
   "cell_type": "code",
   "execution_count": 1,
   "id": "1772d117-894d-42e5-a1d5-a0c3612ba92b",
   "metadata": {},
   "outputs": [],
   "source": [
    "import pandas as pd"
   ]
  },
  {
   "cell_type": "code",
   "execution_count": 2,
   "id": "3ebd452e-1033-4d50-8f66-9d3319b581fe",
   "metadata": {},
   "outputs": [],
   "source": [
    "import matplotlib.pyplot as plt"
   ]
  },
  {
   "cell_type": "code",
   "execution_count": 3,
   "id": "4599949e-26d4-4073-9d8a-4947de1c2f9e",
   "metadata": {},
   "outputs": [],
   "source": [
    "import requests"
   ]
  },
  {
   "cell_type": "code",
   "execution_count": 4,
   "id": "d622c96a-3b68-4d47-9644-2cab4e577c3e",
   "metadata": {},
   "outputs": [],
   "source": [
    "from bs4 import BeautifulSoup"
   ]
  },
  {
   "cell_type": "markdown",
   "id": "6768ef6f-dbc3-49b2-82d5-622660481159",
   "metadata": {},
   "source": [
    "Step 2: Use requests and BeautifulSoup to make a list of all the CORGIS datasets."
   ]
  },
  {
   "cell_type": "code",
   "execution_count": 5,
   "id": "4bffa86c-d147-4f65-ae7b-4897a02657b7",
   "metadata": {},
   "outputs": [],
   "source": [
    "response = requests.get('https://corgis-edu.github.io/corgis/csv/')\n"
   ]
  },
  {
   "cell_type": "code",
   "execution_count": 6,
   "id": "7a7ae386-663e-4dba-b357-d658d298fefd",
   "metadata": {
    "tags": []
   },
   "outputs": [
    {
     "data": {
      "text/plain": [
       "[<h3>Aids</h3>,\n",
       " <h3>Airlines</h3>,\n",
       " <h3>Billionaires</h3>,\n",
       " <h3>Broadway</h3>,\n",
       " <h3>Business Dynamics</h3>,\n",
       " <h3>Cancer</h3>,\n",
       " <h3>Cars</h3>,\n",
       " <h3>Classics</h3>,\n",
       " <h3>Construction Permits</h3>,\n",
       " <h3>Construction Spending</h3>,\n",
       " <h3>County Demographics</h3>,\n",
       " <h3>Covid</h3>,\n",
       " <h3>Drugs</h3>,\n",
       " <h3>Earthquakes</h3>,\n",
       " <h3>Election</h3>,\n",
       " <h3>Electricity</h3>,\n",
       " <h3>Emissions</h3>,\n",
       " <h3>Energy</h3>,\n",
       " <h3>Finance</h3>,\n",
       " <h3>Food</h3>,\n",
       " <h3>Food Access</h3>,\n",
       " <h3>Global Development</h3>,\n",
       " <h3>Graduates</h3>,\n",
       " <h3>Health</h3>,\n",
       " <h3>Hospitals</h3>,\n",
       " <h3>Hydropower</h3>,\n",
       " <h3>Ingredients</h3>,\n",
       " <h3>Injuries</h3>,\n",
       " <h3>Labor</h3>,\n",
       " <h3>Medal Of Honor</h3>,\n",
       " <h3>Music</h3>,\n",
       " <h3>Opioids</h3>,\n",
       " <h3>Police Shootings</h3>,\n",
       " <h3>Publishers</h3>,\n",
       " <h3>Real Estate</h3>,\n",
       " <h3>Retail Services</h3>,\n",
       " <h3>School Scores</h3>,\n",
       " <h3>Skyscrapers</h3>,\n",
       " <h3>Slavery</h3>,\n",
       " <h3>State Crime</h3>,\n",
       " <h3>State Demographics</h3>,\n",
       " <h3>State Fragility</h3>,\n",
       " <h3>Suicide Attacks</h3>,\n",
       " <h3>Supreme Court</h3>,\n",
       " <h3>Tate</h3>,\n",
       " <h3>Video Games</h3>,\n",
       " <h3>Weather</h3>,\n",
       " <h3>Wind Turbines</h3>]"
      ]
     },
     "execution_count": 6,
     "metadata": {},
     "output_type": "execute_result"
    }
   ],
   "source": [
    "html_string = response.text\n",
    "document = BeautifulSoup(html_string, \"html.parser\")\n",
    "document.find_all('h3')"
   ]
  },
  {
   "cell_type": "markdown",
   "id": "4c47eedd-2872-4583-9525-e6f5f5c47a52",
   "metadata": {},
   "source": [
    "Step 3 Write a function that takes an element from the list of CORGIS datasets, searches the respective CORGIS page for the CSV download link, and returns a Pandas dataframe."
   ]
  },
  {
   "cell_type": "code",
   "execution_count": 7,
   "id": "6e9a749c-320d-487b-b818-d98ba6ebaef5",
   "metadata": {},
   "outputs": [],
   "source": [
    "#Classics\n",
    "pdcorgis = requests.get('https://corgis-edu.github.io/corgis/csv/classics')"
   ]
  },
  {
   "cell_type": "code",
   "execution_count": 8,
   "id": "970f233d-1083-4c12-a6a7-ca83d5a748eb",
   "metadata": {
    "tags": []
   },
   "outputs": [
    {
     "name": "stdout",
     "output_type": "stream",
     "text": [
      "[<a href=\"mailto:acbart@vt.edu\">acbart@vt.edu</a>, <a href=\"https://www.gutenberg.org/ebooks/search/?sort_order=downloads\">https://www.gutenberg.org/ebooks/search/?sort_order=downloads</a>, <a download=\"\" href=\"../../datasets/csv/classics/classics.csv\">classics.csv <span class=\"fas fa-download\"></span></a>, <a href=\"http://www.gutenberg.org/ebooks/110\">http://www.gutenberg.org/ebooks/110</a>]\n"
     ]
    }
   ],
   "source": [
    "html_string = pdcorgis.text\n",
    "html_string.lower()\n",
    "document = BeautifulSoup(html_string, \"html.parser\")\n",
    "classics = document.find_all('a')\n",
    "print(classics)"
   ]
  },
  {
   "cell_type": "code",
   "execution_count": 9,
   "id": "d113e167-9da8-406e-8149-ff75eb9930b4",
   "metadata": {},
   "outputs": [],
   "source": [
    "#pdcorgis function\n",
    "\n",
    "def pdcorgis(a):\n",
    "    \n",
    "    #classics data\n",
    "    requests.get('https://corgis-edu.github.io/corgis/csv/classics')\n",
    "    html_string1 = pdcorgis.text\n",
    "    html_string1.lower()\n",
    "    document1 = BeautifulSoup(html_string, \"html.parser\")\n",
    "    classics = document.find_all('a')\n",
    "    if i.has_attr('download'): i['href']\n",
    "  \n",
    "    \n",
    "    #weather data\n",
    "    requests.get('https://corgis-edu.github.io/corgis/csv/weather')\n",
    "\n",
    "    html_string2 = pdcorgis.text\n",
    "    html_string2.lower()\n",
    "    document2 = BeautifulSoup(html_string, \"html.parser\")\n",
    "    weather = document.find_all('a')\n",
    "    if i.has_attr('download'): i['href']\n",
    "    \n",
    "    \n",
    "    \n",
    "    #slavery data\n",
    "    requests.get('https://corgis-edu.github.io/corgis/csv/slavery')\n",
    "\n",
    "    html_string3 = pdcorgis.text\n",
    "    html_string3.lower()\n",
    "    document3 = BeautifulSoup(html_string, \"html.parser\")\n",
    "    slavery = document.find_all('a')\n",
    "    if i.has_attr('download'): i['href']\n",
    "        \n",
    "    return pdgorgis\n",
    "\n"
   ]
  },
  {
   "cell_type": "markdown",
   "id": "3967a2bd-1597-42e9-9e16-02ba3d4b24ba",
   "metadata": {},
   "source": [
    "Plots:"
   ]
  },
  {
   "cell_type": "markdown",
   "id": "397cc414-3832-411d-af0f-b68ed9b7df49",
   "metadata": {},
   "source": [
    "Classics"
   ]
  },
  {
   "cell_type": "code",
   "execution_count": 13,
   "id": "37ca483e-9410-4566-814f-faa69d1e7323",
   "metadata": {},
   "outputs": [],
   "source": [
    "links = 'https://corgis-edu.github.io/corgis/datasets/csv/classics/classics.csv', 'https://corgis-edu.github.io/corgis/datasets/csv/classics/weather.csv', 'https://corgis-edu.github.io/corgis/datasets/csv/slavery/slavery.csv'\n",
    "\n",
    "\n"
   ]
  },
  {
   "cell_type": "code",
   "execution_count": 14,
   "id": "2e6964c4-f575-4e24-afce-ba37349e94eb",
   "metadata": {},
   "outputs": [],
   "source": [
    "classicdata = pd.read_csv('https://corgis-edu.github.io/corgis/datasets/csv/classics/classics.csv')"
   ]
  },
  {
   "cell_type": "code",
   "execution_count": 15,
   "id": "7bb298d9-388e-4433-a405-0fe25fd63bdd",
   "metadata": {
    "collapsed": true,
    "jupyter": {
     "outputs_hidden": true
    },
    "tags": []
   },
   "outputs": [
    {
     "data": {
      "text/plain": [
       "<bound method NDFrame.head of      bibliography.congress classifications bibliography.languages  \\\n",
       "0                                       PR                     en   \n",
       "1                                       PS                     en   \n",
       "2                                    PZ,PR                     en   \n",
       "3                                       PR                     en   \n",
       "4                                       PT                     en   \n",
       "...                                    ...                    ...   \n",
       "1001                                   NaN                     en   \n",
       "1002                                   NaN                     en   \n",
       "1003                                   NaN                     en   \n",
       "1004                                   NaN                     en   \n",
       "1005                                   NaN                     en   \n",
       "\n",
       "                                  bibliography.subjects  \\\n",
       "0     Sisters -- Fiction,Courtship -- Fiction,Social...   \n",
       "1     Mentally ill women -- Fiction,Feminist fiction...   \n",
       "2                                               Fantasy   \n",
       "3     Monsters -- Fiction;Frankenstein's monster (Fi...   \n",
       "4        Psychological fiction,Metamorphosis -- Fiction   \n",
       "...                                                 ...   \n",
       "1001                                                NaN   \n",
       "1002                                                NaN   \n",
       "1003                                                NaN   \n",
       "1004                                                NaN   \n",
       "1005                                                NaN   \n",
       "\n",
       "                            bibliography.title bibliography.type  \\\n",
       "0                          Pride and Prejudice              Text   \n",
       "1                         The Yellow Wallpaper              Text   \n",
       "2             Alice's Adventures in Wonderland              Text   \n",
       "3      Frankenstein; Or, The Modern Prometheus              Text   \n",
       "4                                Metamorphosis              Text   \n",
       "...                                        ...               ...   \n",
       "1001                      The Reluctant Heroes              Text   \n",
       "1002               Film Truth; September, 1920              Text   \n",
       "1003                                    Othmar              Text   \n",
       "1004              Church History (Volumes 1-3)              Text   \n",
       "1005  The Uncensored Letters of a Canteen Girl              Text   \n",
       "\n",
       "      metadata.downloads  metadata.id  metadata.rank  \\\n",
       "0                  36576         1342              1   \n",
       "1                  26363         1952              2   \n",
       "2                  18882           11              3   \n",
       "3                  17128           84              4   \n",
       "4                  15683         5200              5   \n",
       "...                  ...          ...            ...   \n",
       "1001                   0        51483           1002   \n",
       "1002                   0        51484           1003   \n",
       "1003                   0        51487           1004   \n",
       "1004                   0        51491           1005   \n",
       "1005                   0        51495           1006   \n",
       "\n",
       "                                metadata.url  bibliography.author.birth  ...  \\\n",
       "0      https://www.gutenberg.org/ebooks/1342                       1775  ...   \n",
       "1      https://www.gutenberg.org/ebooks/1952                       1860  ...   \n",
       "2        https://www.gutenberg.org/ebooks/11                       1832  ...   \n",
       "3        https://www.gutenberg.org/ebooks/84                       1797  ...   \n",
       "4      https://www.gutenberg.org/ebooks/5200                       1883  ...   \n",
       "...                                      ...                        ...  ...   \n",
       "1001  https://www.gutenberg.org/ebooks/51483                       1926  ...   \n",
       "1002  https://www.gutenberg.org/ebooks/51484                          0  ...   \n",
       "1003  https://www.gutenberg.org/ebooks/51487                       1839  ...   \n",
       "1004  https://www.gutenberg.org/ebooks/51491                       1809  ...   \n",
       "1005  https://www.gutenberg.org/ebooks/51495                          0  ...   \n",
       "\n",
       "      metrics.sentiments.polarity metrics.sentiments.subjectivity  \\\n",
       "0                        0.136713                        0.522239   \n",
       "1                        0.054174                        0.534787   \n",
       "2                        0.041079                        0.497276   \n",
       "3                        0.100902                        0.539516   \n",
       "4                        0.041997                        0.479019   \n",
       "...                           ...                             ...   \n",
       "1001                     0.076203                        0.451757   \n",
       "1002                     0.143879                        0.485782   \n",
       "1003                     0.099478                        0.548289   \n",
       "1004                     0.112242                        0.440014   \n",
       "1005                     0.059623                        0.435443   \n",
       "\n",
       "      metrics.statistics.average letter per word  \\\n",
       "0                                           4.83   \n",
       "1                                           4.41   \n",
       "2                                           4.65   \n",
       "3                                           4.77   \n",
       "4                                           4.56   \n",
       "...                                          ...   \n",
       "1001                                        4.68   \n",
       "1002                                        5.02   \n",
       "1003                                        4.66   \n",
       "1004                                        5.31   \n",
       "1005                                        4.73   \n",
       "\n",
       "     metrics.statistics.average sentence length  \\\n",
       "0                                          18.0   \n",
       "1                                          15.0   \n",
       "2                                          17.0   \n",
       "3                                          23.0   \n",
       "4                                          27.0   \n",
       "...                                         ...   \n",
       "1001                                       11.0   \n",
       "1002                                       17.0   \n",
       "1003                                       21.0   \n",
       "1004                                       17.0   \n",
       "1005                                       17.0   \n",
       "\n",
       "      metrics.statistics.average sentence per word  \\\n",
       "0                                             0.05   \n",
       "1                                             0.06   \n",
       "2                                             0.06   \n",
       "3                                             0.04   \n",
       "4                                             0.04   \n",
       "...                                            ...   \n",
       "1001                                          0.09   \n",
       "1002                                          0.06   \n",
       "1003                                          0.05   \n",
       "1004                                          0.06   \n",
       "1005                                          0.06   \n",
       "\n",
       "     metrics.statistics.characters  metrics.statistics.polysyllables  \\\n",
       "0                           586794                              4603   \n",
       "1                            26769                               102   \n",
       "2                           122719                               339   \n",
       "3                           357604                              2604   \n",
       "4                           100372                               397   \n",
       "...                            ...                               ...   \n",
       "1001                         32354                               112   \n",
       "1002                         45970                               312   \n",
       "1003                        890918                              4808   \n",
       "1004                       3883244                             46730   \n",
       "1005                        451687                              2595   \n",
       "\n",
       "      metrics.statistics.sentences metrics.statistics.syllables  \\\n",
       "0                             6511                     170648.1   \n",
       "1                              385                       7686.9   \n",
       "2                             1501                      33810.3   \n",
       "3                             3239                     106802.1   \n",
       "4                              800                      28752.3   \n",
       "...                            ...                          ...   \n",
       "1001                           618                       8824.5   \n",
       "1002                           536                      13080.6   \n",
       "1003                          8921                     258091.2   \n",
       "1004                         41950                    1083170.7   \n",
       "1005                          5580                     130093.2   \n",
       "\n",
       "      metrics.statistics.words  \n",
       "0                       121533  \n",
       "1                         6067  \n",
       "2                        26389  \n",
       "3                        74959  \n",
       "4                        22022  \n",
       "...                        ...  \n",
       "1001                      6913  \n",
       "1002                      9153  \n",
       "1003                    191182  \n",
       "1004                    730715  \n",
       "1005                     95496  \n",
       "\n",
       "[1006 rows x 38 columns]>"
      ]
     },
     "execution_count": 15,
     "metadata": {},
     "output_type": "execute_result"
    }
   ],
   "source": [
    "classicdata.head"
   ]
  },
  {
   "cell_type": "code",
   "execution_count": 16,
   "id": "2c7f7c8e-31d5-409a-a1ba-0e4c2b8dd6bb",
   "metadata": {},
   "outputs": [
    {
     "data": {
      "text/plain": [
       "<AxesSubplot:xlabel='metrics.statistics.words', ylabel='metrics.statistics.syllables'>"
      ]
     },
     "execution_count": 16,
     "metadata": {},
     "output_type": "execute_result"
    },
    {
     "data": {
      "image/png": "[encoded data removed]",
      "text/plain": [
       "<Figure size 432x288 with 1 Axes>"
      ]
     },
     "metadata": {
      "needs_background": "light"
     },
     "output_type": "display_data"
    }
   ],
   "source": [
    "classicdata.plot(kind = 'scatter', x = 'metrics.statistics.words', y = 'metrics.statistics.syllables')"
   ]
  },
  {
   "cell_type": "markdown",
   "id": "ff0f3b65-156f-472b-bab0-0ad79d3611a5",
   "metadata": {},
   "source": [
    "Weather"
   ]
  },
  {
   "cell_type": "code",
   "execution_count": 17,
   "id": "af538f5f-95db-4b79-a52e-ca8cf6556b8e",
   "metadata": {
    "collapsed": true,
    "jupyter": {
     "outputs_hidden": true
    },
    "tags": []
   },
   "outputs": [
    {
     "data": {
      "text/plain": [
       "<bound method NDFrame.head of        Data.Precipitation   Date.Full  Date.Month  Date.Week of  Date.Year  \\\n",
       "0                    0.00  2016-01-03           1             3       2016   \n",
       "1                    0.00  2016-01-03           1             3       2016   \n",
       "2                    0.16  2016-01-03           1             3       2016   \n",
       "3                    0.00  2016-01-03           1             3       2016   \n",
       "4                    0.01  2016-01-03           1             3       2016   \n",
       "...                   ...         ...         ...           ...        ...   \n",
       "16738                0.08  2017-01-01           1             1       2017   \n",
       "16739                0.00  2017-01-01           1             1       2017   \n",
       "16740                0.00  2017-01-01           1             1       2017   \n",
       "16741                0.06  2017-01-01           1             1       2017   \n",
       "16742                0.10  2017-01-01           1             1       2017   \n",
       "\n",
       "      Station.City Station.Code Station.Location Station.State  \\\n",
       "0       Birmingham          BHM   Birmingham, AL       Alabama   \n",
       "1       Huntsville          HSV   Huntsville, AL       Alabama   \n",
       "2           Mobile          MOB       Mobile, AL       Alabama   \n",
       "3       Montgomery          MGM   Montgomery, AL       Alabama   \n",
       "4        Anchorage          ANC    Anchorage, AK        Alaska   \n",
       "...            ...          ...              ...           ...   \n",
       "16738       Casper          CPR       Casper, WY       Wyoming   \n",
       "16739     Cheyenne          CYS     Cheyenne, WY       Wyoming   \n",
       "16740       Lander          LND       Lander, WY       Wyoming   \n",
       "16741      Rawlins          RWL      Rawlins, WY       Wyoming   \n",
       "16742     Sheridan          SHR     Sheridan, WY       Wyoming   \n",
       "\n",
       "       Data.Temperature.Avg Temp  Data.Temperature.Max Temp  \\\n",
       "0                             39                         46   \n",
       "1                             39                         47   \n",
       "2                             46                         51   \n",
       "3                             45                         52   \n",
       "4                             34                         38   \n",
       "...                          ...                        ...   \n",
       "16738                         23                         32   \n",
       "16739                         32                         42   \n",
       "16740                         17                         29   \n",
       "16741                         23                         31   \n",
       "16742                         21                         34   \n",
       "\n",
       "       Data.Temperature.Min Temp  Data.Wind.Direction  Data.Wind.Speed  \n",
       "0                             32                   33             4.33  \n",
       "1                             31                   32             3.86  \n",
       "2                             41                   35             9.73  \n",
       "3                             38                   32             6.86  \n",
       "4                             29                   19             7.80  \n",
       "...                          ...                  ...              ...  \n",
       "16738                         15                   23            19.98  \n",
       "16739                         21                   26            15.16  \n",
       "16740                          4                   26             1.65  \n",
       "16741                         13                   24            18.16  \n",
       "16742                          8                   23             7.51  \n",
       "\n",
       "[16743 rows x 14 columns]>"
      ]
     },
     "execution_count": 17,
     "metadata": {},
     "output_type": "execute_result"
    }
   ],
   "source": [
    "weatherdata = pd.read_csv('https://corgis-edu.github.io/corgis/datasets/csv/weather/weather.csv')\n",
    "weatherdata.head"
   ]
  },
  {
   "cell_type": "code",
   "execution_count": 18,
   "id": "fa338bd2-5835-430b-b304-e28387a0c848",
   "metadata": {},
   "outputs": [
    {
     "data": {
      "text/plain": [
       "<AxesSubplot:xlabel='Data.Temperature.Avg Temp', ylabel='Data.Precipitation'>"
      ]
     },
     "execution_count": 18,
     "metadata": {},
     "output_type": "execute_result"
    },
    {
     "data": {
      "image/png": "[encoded data removed]",
      "text/plain": [
       "<Figure size 432x288 with 1 Axes>"
      ]
     },
     "metadata": {
      "needs_background": "light"
     },
     "output_type": "display_data"
    }
   ],
   "source": [
    "weatherdata.plot(kind = 'scatter', x = 'Data.Temperature.Avg Temp', y = 'Data.Precipitation')"
   ]
  },
  {
   "cell_type": "markdown",
   "id": "95ddcc06-ea2c-48ed-9030-1ef54fbbeff5",
   "metadata": {},
   "source": [
    "Slavery"
   ]
  },
  {
   "cell_type": "code",
   "execution_count": 21,
   "id": "d208f092-65a6-4111-a0ff-649ec07491a3",
   "metadata": {
    "collapsed": true,
    "jupyter": {
     "outputs_hidden": true
    },
    "tags": []
   },
   "outputs": [
    {
     "data": {
      "text/plain": [
       "<bound method NDFrame.head of      Buyer.County of Origin         Buyer.Full Name      Buyer.Origin  \\\n",
       "0                   Unknown            Maria Hopson  Unknown, Unknown   \n",
       "1               New Orleans      Peyton N. Reynolds   New Orleans, LA   \n",
       "2               New Orleans        Heloise Bagneris   New Orleans, LA   \n",
       "3                 Jefferson       Francis Dugue Jr.     Jefferson, LA   \n",
       "4               New Orleans          Anthony O'Dowd   New Orleans, LA   \n",
       "...                     ...                     ...               ...   \n",
       "9594            New Orleans             Isaac Bloom   New Orleans, LA   \n",
       "9595            New Orleans  Jean Jacques Planchard   New Orleans, LA   \n",
       "9596            New Orleans     Matthew Jules Bujac   New Orleans, LA   \n",
       "9597            New Orleans      Sarah Ann Chadwick   New Orleans, LA   \n",
       "9598            New Orleans           Pierre Balois   New Orleans, LA   \n",
       "\n",
       "     Buyer.State of Origin Seller.County of Origin        Seller.Full Name  \\\n",
       "0                  Unknown                 Unknown         Benjamin Screws   \n",
       "1                       LA             New Orleans       Santiago Galseran   \n",
       "2                       LA             New Orleans            Pierre Macou   \n",
       "3                       LA                 Vanzand  Benjamin Franklin Irby   \n",
       "4                       LA             New Orleans          Richard Condon   \n",
       "...                    ...                     ...                     ...   \n",
       "9594                    LA             Little Rock              V. W. Hutt   \n",
       "9595                    LA             New Orleans        Julienne Lamothe   \n",
       "9596                    LA               Jefferson        Nywatt C. Cutler   \n",
       "9597                    LA             New Orleans        John G. Chadwick   \n",
       "9598                    LA               Lafayette         Antoine Guidry    \n",
       "\n",
       "        Seller.Origin Seller.State of Origin  Slave.Age Slave.Gender  ...  \\\n",
       "0         Unknown, AL                     AL       40.0            M  ...   \n",
       "1     New Orleans, LA                     LA       44.0            F  ...   \n",
       "2     New Orleans, LA                     LA       24.0            F  ...   \n",
       "3         Vanzand, TX                     TX       23.0            M  ...   \n",
       "4     New Orleans, LA                     LA       12.0            M  ...   \n",
       "...               ...                    ...        ...          ...  ...   \n",
       "9594  Little Rock, AR                     AR       35.0            M  ...   \n",
       "9595  New Orleans, LA                     LA       50.0            M  ...   \n",
       "9596    Jefferson, LA                     LA       25.0            F  ...   \n",
       "9597  New Orleans, LA                     LA       24.0            F  ...   \n",
       "9598    Lafayette, LA                     LA       42.0            M  ...   \n",
       "\n",
       "     Slave.Skin Color Transaction.Date Transaction.Number of Adult Slaves  \\\n",
       "0             Unknown        10/6/1856                                  1   \n",
       "1               Negro        10/7/1856                                  1   \n",
       "2               Negro        10/1/1856                                  1   \n",
       "3               Negro        10/8/1856                                  1   \n",
       "4               Negro        10/8/1856                                  1   \n",
       "...               ...              ...                                ...   \n",
       "9594            Negro         4/4/1861                                  1   \n",
       "9595            Negro        5/23/1861                                  3   \n",
       "9596          Mulatto         8/3/1861                                  1   \n",
       "9597            Negro         5/7/1861                                  3   \n",
       "9598          Unknown        7/29/1861                                  1   \n",
       "\n",
       "      Transaction.Number of Child Slaves  \\\n",
       "0                                      0   \n",
       "1                                      0   \n",
       "2                                      0   \n",
       "3                                      0   \n",
       "4                                      0   \n",
       "...                                  ...   \n",
       "9594                                   0   \n",
       "9595                                   0   \n",
       "9596                                   1   \n",
       "9597                                   0   \n",
       "9598                                   0   \n",
       "\n",
       "      Transaction.Number of Total Slaves Purchased  \\\n",
       "0                                                1   \n",
       "1                                                1   \n",
       "2                                                1   \n",
       "3                                                1   \n",
       "4                                                1   \n",
       "...                                            ...   \n",
       "9594                                             1   \n",
       "9595                                             3   \n",
       "9596                                             2   \n",
       "9597                                             3   \n",
       "9598                                             1   \n",
       "\n",
       "      Transaction.Sale Details.Discount Rate  \\\n",
       "0                                   0.006027   \n",
       "1                                   0.006027   \n",
       "2                                   0.006027   \n",
       "3                                   0.006027   \n",
       "4                                   0.006027   \n",
       "...                                      ...   \n",
       "9594                                0.006027   \n",
       "9595                                0.005879   \n",
       "9596                                0.006027   \n",
       "9597                                0.006055   \n",
       "9598                                0.005850   \n",
       "\n",
       "      Transaction.Sale Details.Payment Method  \\\n",
       "0                                        Cash   \n",
       "1                                        Cash   \n",
       "2                                        Cash   \n",
       "3                                        Cash   \n",
       "4                                        Cash   \n",
       "...                                       ...   \n",
       "9594                                     Cash   \n",
       "9595                          Cash and Credit   \n",
       "9596                                     Cash   \n",
       "9597                          Cash and Credit   \n",
       "9598                          Cash and Credit   \n",
       "\n",
       "     Transaction.Sale Details.Predicted Interest Rate  \\\n",
       "0                                            0.074770   \n",
       "1                                            0.074770   \n",
       "2                                            0.074770   \n",
       "3                                            0.074770   \n",
       "4                                            0.074770   \n",
       "...                                               ...   \n",
       "9594                                         0.074770   \n",
       "9595                                         0.072873   \n",
       "9596                                         0.074770   \n",
       "9597                                         0.075125   \n",
       "9598                                         0.072497   \n",
       "\n",
       "      Transaction.Sale Details.Price  Transaction.Sale Details.Prices Listed  \n",
       "0                              650.0                                       1  \n",
       "1                              550.0                                       1  \n",
       "2                             1000.0                                       1  \n",
       "3                             1400.0                                       1  \n",
       "4                              700.0                                       1  \n",
       "...                              ...                                     ...  \n",
       "9594                           950.0                                       1  \n",
       "9595                           650.0                                       1  \n",
       "9596                          1100.0                                       1  \n",
       "9597                          1600.0                                       1  \n",
       "9598                          1600.0                                       1  \n",
       "\n",
       "[9599 rows x 21 columns]>"
      ]
     },
     "execution_count": 21,
     "metadata": {},
     "output_type": "execute_result"
    }
   ],
   "source": [
    "slaverydata = pd.read_csv('https://corgis-edu.github.io/corgis/datasets/csv/slavery/slavery.csv')\n",
    "slaverydata.head"
   ]
  },
  {
   "cell_type": "code",
   "execution_count": 23,
   "id": "d3730dff-6931-45b4-80a7-e67d276ff614",
   "metadata": {},
   "outputs": [
    {
     "data": {
      "text/plain": [
       "<AxesSubplot:xlabel='Slave.Age', ylabel='Transaction.Sale Details.Price'>"
      ]
     },
     "execution_count": 23,
     "metadata": {},
     "output_type": "execute_result"
    },
    {
     "data": {
      "image/png": "[encoded data removed]",
      "text/plain": [
       "<Figure size 432x288 with 1 Axes>"
      ]
     },
     "metadata": {
      "needs_background": "light"
     },
     "output_type": "display_data"
    }
   ],
   "source": [
    "slaverydata.plot(kind = 'scatter', x = 'Slave.Age', y = 'Transaction.Sale Details.Price')"
   ]
  },
  {
   "cell_type": "code",
   "execution_count": null,
   "id": "98d12cba-4b08-44f6-8fc0-bcef97712166",
   "metadata": {},
   "outputs": [],
   "source": []
  }
 ],
 "metadata": {
  "kernelspec": {
   "display_name": "Python 3 (ipykernel)",
   "language": "python",
   "name": "python3"
  },
  "language_info": {
   "codemirror_mode": {
    "name": "ipython",
    "version": 3
   },
   "file_extension": ".py",
   "mimetype": "text/x-python",
   "name": "python",
   "nbconvert_exporter": "python",
   "pygments_lexer": "ipython3",
   "version": "3.9.6"
  }
 },
 "nbformat": 4,
 "nbformat_minor": 5
}
