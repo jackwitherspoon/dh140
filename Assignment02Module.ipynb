{
 "cells": [
  {
   "cell_type": "code",
   "execution_count": null,
   "id": "546bd8a7-52d9-4616-a4e5-a4c4544ad321",
   "metadata": {},
   "outputs": [],
   "source": [
    "#function (both a new function definition and an execution of that function) & module import and use of the module somewhere in the code\n",
    "\n",
    "def sum_2_items(x, y, print_args = False): \n",
    "    if print_args:                        \n",
    "        print(x,y,z)\n",
    "    return x + y "
   ]
  }
 ],
 "metadata": {
  "kernelspec": {
   "display_name": "Python 3 (ipykernel)",
   "language": "python",
   "name": "python3"
  },
  "language_info": {
   "codemirror_mode": {
    "name": "ipython",
    "version": 3
   },
   "file_extension": ".py",
   "mimetype": "text/x-python",
   "name": "python",
   "nbconvert_exporter": "python",
   "pygments_lexer": "ipython3",
   "version": "3.9.6"
  }
 },
 "nbformat": 4,
 "nbformat_minor": 5
}
