{
 "cells": [
  {
   "cell_type": "markdown",
   "id": "bb4f5554-efc9-460e-8254-995efb5f06ac",
   "metadata": {},
   "source": [
    "# Assignment 3"
   ]
  },
  {
   "cell_type": "markdown",
   "id": "77df600c-5f4a-4e18-bd2d-88551a4f1cc6",
   "metadata": {},
   "source": [
    "## Pandas and plotting exercises"
   ]
  },
  {
   "cell_type": "code",
   "execution_count": 4,
   "id": "f5e83735-8845-4afc-b79a-b0efe963d305",
   "metadata": {},
   "outputs": [],
   "source": [
    "# Import the pandas library\n",
    "\n",
    "import pandas as pd"
   ]
  },
  {
   "cell_type": "markdown",
   "id": "c4fe53d9-5776-45c6-b47d-9465a2888808",
   "metadata": {},
   "source": [
    "In Week 2, you used a dataset from the CORGIS website.  You may have used either the Python, CSV, or JSON data files.\n",
    "\n",
    "For this assignment, use the CSV file format for the same category of data that you used previously."
   ]
  },
  {
   "cell_type": "code",
   "execution_count": 5,
   "id": "c5850ef7-07fb-456c-9943-ba9e87cc0784",
   "metadata": {},
   "outputs": [
    {
     "data": {
      "text/html": [
       "<div>\n",
       "<style scoped>\n",
       "    .dataframe tbody tr th:only-of-type {\n",
       "        vertical-align: middle;\n",
       "    }\n",
       "\n",
       "    .dataframe tbody tr th {\n",
       "        vertical-align: top;\n",
       "    }\n",
       "\n",
       "    .dataframe thead th {\n",
       "        text-align: right;\n",
       "    }\n",
       "</style>\n",
       "<table border=\"1\" class=\"dataframe\">\n",
       "  <thead>\n",
       "    <tr style=\"text-align: right;\">\n",
       "      <th></th>\n",
       "      <th>State</th>\n",
       "      <th>Year</th>\n",
       "      <th>Totals.Capital outlay</th>\n",
       "      <th>Totals.Revenue</th>\n",
       "      <th>Totals.Expenditure</th>\n",
       "      <th>Totals.General expenditure</th>\n",
       "      <th>Totals.General revenue</th>\n",
       "      <th>Totals.Insurance trust  revenue</th>\n",
       "      <th>Totals.Intergovernmental</th>\n",
       "      <th>Totals.License tax</th>\n",
       "      <th>...</th>\n",
       "      <th>Details.Welfare.Welfare Institution Total Expenditure</th>\n",
       "      <th>Details.Natural Resources.Parks.Parks Total Expenditure</th>\n",
       "      <th>Details.Transportation.Highways.Highways Total Expenditure</th>\n",
       "      <th>Totals. Debt at end of fiscal year</th>\n",
       "      <th>Details.Insurance benefits and repayments</th>\n",
       "      <th>Details.Interest on debt</th>\n",
       "      <th>Details.Interest on general debt</th>\n",
       "      <th>Details.Miscellaneous general revenue</th>\n",
       "      <th>Details.Other taxes</th>\n",
       "      <th>Details.Police protection</th>\n",
       "    </tr>\n",
       "  </thead>\n",
       "  <tbody>\n",
       "    <tr>\n",
       "      <th>0</th>\n",
       "      <td>ALABAMA</td>\n",
       "      <td>1992</td>\n",
       "      <td>664748</td>\n",
       "      <td>10536166</td>\n",
       "      <td>9650515</td>\n",
       "      <td>8788293</td>\n",
       "      <td>8910315</td>\n",
       "      <td>1473217</td>\n",
       "      <td>2737180</td>\n",
       "      <td>395202</td>\n",
       "      <td>...</td>\n",
       "      <td>1853436</td>\n",
       "      <td>9728</td>\n",
       "      <td>694874</td>\n",
       "      <td>4128724</td>\n",
       "      <td>724852</td>\n",
       "      <td>280179</td>\n",
       "      <td>280179</td>\n",
       "      <td>607453</td>\n",
       "      <td>205227</td>\n",
       "      <td>77789</td>\n",
       "    </tr>\n",
       "    <tr>\n",
       "      <th>1</th>\n",
       "      <td>ALABAMA</td>\n",
       "      <td>1993</td>\n",
       "      <td>781952</td>\n",
       "      <td>11389335</td>\n",
       "      <td>10242374</td>\n",
       "      <td>9339796</td>\n",
       "      <td>9688246</td>\n",
       "      <td>1570768</td>\n",
       "      <td>2965310</td>\n",
       "      <td>377723</td>\n",
       "      <td>...</td>\n",
       "      <td>2016935</td>\n",
       "      <td>11031</td>\n",
       "      <td>856228</td>\n",
       "      <td>4170084</td>\n",
       "      <td>761582</td>\n",
       "      <td>267648</td>\n",
       "      <td>267648</td>\n",
       "      <td>599988</td>\n",
       "      <td>224878</td>\n",
       "      <td>78320</td>\n",
       "    </tr>\n",
       "    <tr>\n",
       "      <th>2</th>\n",
       "      <td>ALABAMA</td>\n",
       "      <td>1994</td>\n",
       "      <td>767100</td>\n",
       "      <td>11599362</td>\n",
       "      <td>10815221</td>\n",
       "      <td>9922352</td>\n",
       "      <td>10014415</td>\n",
       "      <td>1454982</td>\n",
       "      <td>3077084</td>\n",
       "      <td>386771</td>\n",
       "      <td>...</td>\n",
       "      <td>2167799</td>\n",
       "      <td>12053</td>\n",
       "      <td>883852</td>\n",
       "      <td>3853804</td>\n",
       "      <td>762811</td>\n",
       "      <td>250642</td>\n",
       "      <td>250642</td>\n",
       "      <td>643807</td>\n",
       "      <td>234592</td>\n",
       "      <td>86839</td>\n",
       "    </tr>\n",
       "    <tr>\n",
       "      <th>3</th>\n",
       "      <td>ALABAMA</td>\n",
       "      <td>1995</td>\n",
       "      <td>808001</td>\n",
       "      <td>12279726</td>\n",
       "      <td>11541881</td>\n",
       "      <td>10489513</td>\n",
       "      <td>10582838</td>\n",
       "      <td>1566923</td>\n",
       "      <td>3240417</td>\n",
       "      <td>480698</td>\n",
       "      <td>...</td>\n",
       "      <td>2291264</td>\n",
       "      <td>10645</td>\n",
       "      <td>924411</td>\n",
       "      <td>3758726</td>\n",
       "      <td>912649</td>\n",
       "      <td>193752</td>\n",
       "      <td>193752</td>\n",
       "      <td>643469</td>\n",
       "      <td>232783</td>\n",
       "      <td>83482</td>\n",
       "    </tr>\n",
       "    <tr>\n",
       "      <th>4</th>\n",
       "      <td>ALABAMA</td>\n",
       "      <td>1996</td>\n",
       "      <td>760751</td>\n",
       "      <td>12741148</td>\n",
       "      <td>12126587</td>\n",
       "      <td>10991713</td>\n",
       "      <td>10894396</td>\n",
       "      <td>1710360</td>\n",
       "      <td>3347019</td>\n",
       "      <td>422841</td>\n",
       "      <td>...</td>\n",
       "      <td>2325418</td>\n",
       "      <td>7788</td>\n",
       "      <td>881381</td>\n",
       "      <td>3645292</td>\n",
       "      <td>987710</td>\n",
       "      <td>216842</td>\n",
       "      <td>216842</td>\n",
       "      <td>649073</td>\n",
       "      <td>265426</td>\n",
       "      <td>86936</td>\n",
       "    </tr>\n",
       "  </tbody>\n",
       "</table>\n",
       "<p>5 rows × 31 columns</p>\n",
       "</div>"
      ],
      "text/plain": [
       "     State  Year  Totals.Capital outlay  Totals.Revenue  Totals.Expenditure  \\\n",
       "0  ALABAMA  1992                 664748        10536166             9650515   \n",
       "1  ALABAMA  1993                 781952        11389335            10242374   \n",
       "2  ALABAMA  1994                 767100        11599362            10815221   \n",
       "3  ALABAMA  1995                 808001        12279726            11541881   \n",
       "4  ALABAMA  1996                 760751        12741148            12126587   \n",
       "\n",
       "   Totals.General expenditure  Totals.General revenue  \\\n",
       "0                     8788293                 8910315   \n",
       "1                     9339796                 9688246   \n",
       "2                     9922352                10014415   \n",
       "3                    10489513                10582838   \n",
       "4                    10991713                10894396   \n",
       "\n",
       "   Totals.Insurance trust  revenue  Totals.Intergovernmental  \\\n",
       "0                          1473217                   2737180   \n",
       "1                          1570768                   2965310   \n",
       "2                          1454982                   3077084   \n",
       "3                          1566923                   3240417   \n",
       "4                          1710360                   3347019   \n",
       "\n",
       "   Totals.License tax  ...  \\\n",
       "0              395202  ...   \n",
       "1              377723  ...   \n",
       "2              386771  ...   \n",
       "3              480698  ...   \n",
       "4              422841  ...   \n",
       "\n",
       "   Details.Welfare.Welfare Institution Total Expenditure  \\\n",
       "0                                            1853436       \n",
       "1                                            2016935       \n",
       "2                                            2167799       \n",
       "3                                            2291264       \n",
       "4                                            2325418       \n",
       "\n",
       "   Details.Natural Resources.Parks.Parks Total Expenditure  \\\n",
       "0                                               9728         \n",
       "1                                              11031         \n",
       "2                                              12053         \n",
       "3                                              10645         \n",
       "4                                               7788         \n",
       "\n",
       "   Details.Transportation.Highways.Highways Total Expenditure  \\\n",
       "0                                             694874            \n",
       "1                                             856228            \n",
       "2                                             883852            \n",
       "3                                             924411            \n",
       "4                                             881381            \n",
       "\n",
       "   Totals. Debt at end of fiscal year  \\\n",
       "0                             4128724   \n",
       "1                             4170084   \n",
       "2                             3853804   \n",
       "3                             3758726   \n",
       "4                             3645292   \n",
       "\n",
       "   Details.Insurance benefits and repayments  Details.Interest on debt  \\\n",
       "0                                     724852                    280179   \n",
       "1                                     761582                    267648   \n",
       "2                                     762811                    250642   \n",
       "3                                     912649                    193752   \n",
       "4                                     987710                    216842   \n",
       "\n",
       "   Details.Interest on general debt  Details.Miscellaneous general revenue  \\\n",
       "0                            280179                                 607453   \n",
       "1                            267648                                 599988   \n",
       "2                            250642                                 643807   \n",
       "3                            193752                                 643469   \n",
       "4                            216842                                 649073   \n",
       "\n",
       "   Details.Other taxes  Details.Police protection  \n",
       "0               205227                      77789  \n",
       "1               224878                      78320  \n",
       "2               234592                      86839  \n",
       "3               232783                      83482  \n",
       "4               265426                      86936  \n",
       "\n",
       "[5 rows x 31 columns]"
      ]
     },
     "execution_count": 5,
     "metadata": {},
     "output_type": "execute_result"
    }
   ],
   "source": [
    "# Use pandas read_csv function to import the data into a dataframe variable\n",
    "\n",
    "data = pd.read_csv('finance.csv')\n",
    "\n",
    "data.head()"
   ]
  },
  {
   "cell_type": "code",
   "execution_count": 6,
   "id": "ab04825f-f9ba-49ae-bf40-322f4e2554a9",
   "metadata": {},
   "outputs": [
    {
     "name": "stdout",
     "output_type": "stream",
     "text": [
      "Number of rows  1051\n",
      "Number of columns  31\n"
     ]
    }
   ],
   "source": [
    "# How many rows and columns does the dataframe have?\n",
    "\n",
    "df = pd.read_csv('finance.csv')\n",
    "print(\"Number of rows \", len(df.index))\n",
    "row_count, column_count = df.shape\n",
    "print(\"Number of columns \", column_count)"
   ]
  },
  {
   "cell_type": "code",
   "execution_count": 7,
   "id": "e20a45fc-dfc0-4559-977b-d2b86e2f6534",
   "metadata": {},
   "outputs": [
    {
     "name": "stdout",
     "output_type": "stream",
     "text": [
      "State\n",
      "Year\n",
      "Totals.Capital outlay\n",
      "Totals.Revenue\n",
      "Totals.Expenditure\n",
      "Totals.General expenditure\n",
      "Totals.General revenue\n",
      "Totals.Insurance trust  revenue\n",
      "Totals.Intergovernmental\n",
      "Totals.License tax\n",
      "Totals.Selective sales tax\n",
      "Totals.Tax\n",
      "Details.Correction.Correction Total\n",
      "Details.Education.Education Total\n",
      "Details.Financial Aid.Assistance and Subsidies\n",
      "Details.Financial Aid.Cash and Securities Total\n",
      "Details.Health.Health Total Expenditure\n",
      "Details.Intergovernmental.Intergovernmental Expenditure\n",
      "Details.Intergovernmental.Intergovernmental to Combined and Unallocable\n",
      "Details.Natural Resources.Natural Resources Construction\n",
      "Details.Utilities.Utilities Current Operation\n",
      "Details.Welfare.Welfare Institution Total Expenditure\n",
      "Details.Natural Resources.Parks.Parks Total Expenditure\n",
      "Details.Transportation.Highways.Highways Total Expenditure\n",
      "Totals. Debt at end of fiscal year\n",
      "Details.Insurance benefits and repayments\n",
      "Details.Interest on debt\n",
      "Details.Interest on general debt\n",
      "Details.Miscellaneous general revenue\n",
      "Details.Other taxes\n",
      "Details.Police protection\n"
     ]
    }
   ],
   "source": [
    "# What are the column names of the dataframe?\n",
    "\n",
    "for col in data.columns:\n",
    "    print(col)"
   ]
  },
  {
   "cell_type": "code",
   "execution_count": 8,
   "id": "7a549f96-8e8e-456a-a219-096dcddb1fb8",
   "metadata": {},
   "outputs": [
    {
     "name": "stdout",
     "output_type": "stream",
     "text": [
      "State object\n",
      "Year int64\n",
      "Totals.Capital outlay int64\n",
      "Totals.Revenue int64\n",
      "Totals.Expenditure int64\n",
      "Totals.General expenditure int64\n",
      "Totals.General revenue int64\n",
      "Totals.Insurance trust  revenue int64\n",
      "Totals.Intergovernmental int64\n",
      "Totals.License tax int64\n",
      "Totals.Selective sales tax int64\n",
      "Totals.Tax int64\n",
      "Details.Correction.Correction Total int64\n",
      "Details.Education.Education Total int64\n",
      "Details.Financial Aid.Assistance and Subsidies int64\n",
      "Details.Financial Aid.Cash and Securities Total int64\n",
      "Details.Health.Health Total Expenditure int64\n",
      "Details.Intergovernmental.Intergovernmental Expenditure int64\n",
      "Details.Intergovernmental.Intergovernmental to Combined and Unallocable int64\n",
      "Details.Natural Resources.Natural Resources Construction int64\n",
      "Details.Utilities.Utilities Current Operation int64\n",
      "Details.Welfare.Welfare Institution Total Expenditure int64\n",
      "Details.Natural Resources.Parks.Parks Total Expenditure int64\n",
      "Details.Transportation.Highways.Highways Total Expenditure int64\n",
      "Totals. Debt at end of fiscal year int64\n",
      "Details.Insurance benefits and repayments int64\n",
      "Details.Interest on debt int64\n",
      "Details.Interest on general debt int64\n",
      "Details.Miscellaneous general revenue int64\n",
      "Details.Other taxes int64\n",
      "Details.Police protection int64\n"
     ]
    }
   ],
   "source": [
    "# What are the datatypes of each column?\n",
    "\n",
    "df = pd.read_csv('finance.csv', nrows=31)\n",
    "\n",
    "for name, dtype in df.dtypes.iteritems():\n",
    "    print(name, dtype)"
   ]
  },
  {
   "cell_type": "code",
   "execution_count": 9,
   "id": "51471321-443e-4b23-846e-54630d29af29",
   "metadata": {},
   "outputs": [
    {
     "name": "stdout",
     "output_type": "stream",
     "text": [
      "     State  Year  Totals.Capital outlay  Totals.Revenue  Totals.Expenditure  \\\n",
      "0  ALABAMA  1992                 664748        10536166             9650515   \n",
      "1  ALABAMA  1993                 781952        11389335            10242374   \n",
      "\n",
      "   Totals.General expenditure  Totals.General revenue  \\\n",
      "0                     8788293                 8910315   \n",
      "1                     9339796                 9688246   \n",
      "\n",
      "   Totals.Insurance trust  revenue  Totals.Intergovernmental  \\\n",
      "0                          1473217                   2737180   \n",
      "1                          1570768                   2965310   \n",
      "\n",
      "   Totals.License tax  ...  \\\n",
      "0              395202  ...   \n",
      "1              377723  ...   \n",
      "\n",
      "   Details.Welfare.Welfare Institution Total Expenditure  \\\n",
      "0                                            1853436       \n",
      "1                                            2016935       \n",
      "\n",
      "   Details.Natural Resources.Parks.Parks Total Expenditure  \\\n",
      "0                                               9728         \n",
      "1                                              11031         \n",
      "\n",
      "   Details.Transportation.Highways.Highways Total Expenditure  \\\n",
      "0                                             694874            \n",
      "1                                             856228            \n",
      "\n",
      "   Totals. Debt at end of fiscal year  \\\n",
      "0                             4128724   \n",
      "1                             4170084   \n",
      "\n",
      "   Details.Insurance benefits and repayments  Details.Interest on debt  \\\n",
      "0                                     724852                    280179   \n",
      "1                                     761582                    267648   \n",
      "\n",
      "   Details.Interest on general debt  Details.Miscellaneous general revenue  \\\n",
      "0                            280179                                 607453   \n",
      "1                            267648                                 599988   \n",
      "\n",
      "   Details.Other taxes  Details.Police protection  \n",
      "0               205227                      77789  \n",
      "1               224878                      78320  \n",
      "\n",
      "[2 rows x 31 columns]\n"
     ]
    }
   ],
   "source": [
    "# Look at the first 2 rows of the dataframe\n",
    "\n",
    "df_first2 = pd.read_csv('finance.csv', nrows=2)\n",
    "\n",
    "print(df_first2)\n"
   ]
  },
  {
   "cell_type": "code",
   "execution_count": 10,
   "id": "f0206392-0e77-497c-8394-ad3e229a83ab",
   "metadata": {},
   "outputs": [
    {
     "name": "stdout",
     "output_type": "stream",
     "text": [
      "     State  Year  Totals.Capital outlay  Totals.Revenue  Totals.Expenditure  \\\n",
      "0  WYOMING  2017                 475405         7000634             6445250   \n",
      "1  WYOMING  2018                 513325         7652548             6308802   \n",
      "\n",
      "   Totals.General expenditure  Totals.General revenue  \\\n",
      "0                     5533166                 5552848   \n",
      "1                     5393900                 5602117   \n",
      "\n",
      "   Totals.Insurance trust  revenue  Totals.Intergovernmental  \\\n",
      "0                          1336124                   2592055   \n",
      "1                          1931521                   2363993   \n",
      "\n",
      "   Totals.License tax  ...  \\\n",
      "0              161973  ...   \n",
      "1              187522  ...   \n",
      "\n",
      "   Details.Welfare.Welfare Institution Total Expenditure  \\\n",
      "0                                             839126       \n",
      "1                                             853578       \n",
      "\n",
      "   Details.Natural Resources.Parks.Parks Total Expenditure  \\\n",
      "0                                              22893         \n",
      "1                                              22071         \n",
      "\n",
      "   Details.Transportation.Highways.Highways Total Expenditure  \\\n",
      "0                                             478504            \n",
      "1                                             504837            \n",
      "\n",
      "   Totals. Debt at end of fiscal year  \\\n",
      "0                              769721   \n",
      "1                              832440   \n",
      "\n",
      "   Details.Insurance benefits and repayments  Details.Interest on debt  \\\n",
      "0                                     815448                     21942   \n",
      "1                                     812871                     23693   \n",
      "\n",
      "   Details.Interest on general debt  Details.Miscellaneous general revenue  \\\n",
      "0                             21942                                1084334   \n",
      "1                             23693                                1150389   \n",
      "\n",
      "   Details.Other taxes  Details.Police protection  \n",
      "0               724988                      38874  \n",
      "1               787082                      39607  \n",
      "\n",
      "[2 rows x 31 columns]\n"
     ]
    }
   ],
   "source": [
    "# Look at the last 2 rows of the dataframe\n",
    "\n",
    "reviews_df = pd.read_csv(\"finance.csv\", skiprows=range(1,1049), nrows=2)\n",
    "print(reviews_df)"
   ]
  },
  {
   "cell_type": "code",
   "execution_count": 11,
   "id": "e87824ad-9ff4-487d-8506-00d940083ae0",
   "metadata": {},
   "outputs": [
    {
     "data": {
      "text/html": [
       "<div>\n",
       "<style scoped>\n",
       "    .dataframe tbody tr th:only-of-type {\n",
       "        vertical-align: middle;\n",
       "    }\n",
       "\n",
       "    .dataframe tbody tr th {\n",
       "        vertical-align: top;\n",
       "    }\n",
       "\n",
       "    .dataframe thead th {\n",
       "        text-align: right;\n",
       "    }\n",
       "</style>\n",
       "<table border=\"1\" class=\"dataframe\">\n",
       "  <thead>\n",
       "    <tr style=\"text-align: right;\">\n",
       "      <th></th>\n",
       "      <th>Year</th>\n",
       "      <th>Totals.Capital outlay</th>\n",
       "      <th>Totals.Revenue</th>\n",
       "      <th>Totals.Expenditure</th>\n",
       "      <th>Totals.General expenditure</th>\n",
       "      <th>Totals.General revenue</th>\n",
       "      <th>Totals.Insurance trust  revenue</th>\n",
       "      <th>Totals.Intergovernmental</th>\n",
       "      <th>Totals.License tax</th>\n",
       "      <th>Totals.Selective sales tax</th>\n",
       "      <th>...</th>\n",
       "      <th>Details.Welfare.Welfare Institution Total Expenditure</th>\n",
       "      <th>Details.Natural Resources.Parks.Parks Total Expenditure</th>\n",
       "      <th>Details.Transportation.Highways.Highways Total Expenditure</th>\n",
       "      <th>Totals. Debt at end of fiscal year</th>\n",
       "      <th>Details.Insurance benefits and repayments</th>\n",
       "      <th>Details.Interest on debt</th>\n",
       "      <th>Details.Interest on general debt</th>\n",
       "      <th>Details.Miscellaneous general revenue</th>\n",
       "      <th>Details.Other taxes</th>\n",
       "      <th>Details.Police protection</th>\n",
       "    </tr>\n",
       "  </thead>\n",
       "  <tbody>\n",
       "    <tr>\n",
       "      <th>count</th>\n",
       "      <td>31.000000</td>\n",
       "      <td>3.100000e+01</td>\n",
       "      <td>3.100000e+01</td>\n",
       "      <td>3.100000e+01</td>\n",
       "      <td>3.100000e+01</td>\n",
       "      <td>3.100000e+01</td>\n",
       "      <td>3.100000e+01</td>\n",
       "      <td>3.100000e+01</td>\n",
       "      <td>31.000000</td>\n",
       "      <td>3.100000e+01</td>\n",
       "      <td>...</td>\n",
       "      <td>3.100000e+01</td>\n",
       "      <td>31.000000</td>\n",
       "      <td>3.100000e+01</td>\n",
       "      <td>3.100000e+01</td>\n",
       "      <td>3.100000e+01</td>\n",
       "      <td>31.000000</td>\n",
       "      <td>31.000000</td>\n",
       "      <td>3.100000e+01</td>\n",
       "      <td>3.100000e+01</td>\n",
       "      <td>31.000000</td>\n",
       "    </tr>\n",
       "    <tr>\n",
       "      <th>mean</th>\n",
       "      <td>2002.032258</td>\n",
       "      <td>1.118872e+06</td>\n",
       "      <td>1.683817e+07</td>\n",
       "      <td>1.612011e+07</td>\n",
       "      <td>1.441705e+07</td>\n",
       "      <td>1.425084e+07</td>\n",
       "      <td>2.436086e+06</td>\n",
       "      <td>4.765002e+06</td>\n",
       "      <td>335696.870968</td>\n",
       "      <td>1.292052e+06</td>\n",
       "      <td>...</td>\n",
       "      <td>3.553690e+06</td>\n",
       "      <td>17244.322581</td>\n",
       "      <td>1.038395e+06</td>\n",
       "      <td>5.618274e+06</td>\n",
       "      <td>1.548162e+06</td>\n",
       "      <td>296404.064516</td>\n",
       "      <td>290999.193548</td>\n",
       "      <td>1.883252e+06</td>\n",
       "      <td>5.556974e+05</td>\n",
       "      <td>102376.612903</td>\n",
       "    </tr>\n",
       "    <tr>\n",
       "      <th>std</th>\n",
       "      <td>8.708172</td>\n",
       "      <td>6.763169e+05</td>\n",
       "      <td>9.652711e+06</td>\n",
       "      <td>1.043335e+07</td>\n",
       "      <td>9.144599e+06</td>\n",
       "      <td>7.938721e+06</td>\n",
       "      <td>1.901563e+06</td>\n",
       "      <td>3.591183e+06</td>\n",
       "      <td>187245.693137</td>\n",
       "      <td>9.489039e+05</td>\n",
       "      <td>...</td>\n",
       "      <td>2.853881e+06</td>\n",
       "      <td>5952.768848</td>\n",
       "      <td>4.512075e+05</td>\n",
       "      <td>2.296225e+06</td>\n",
       "      <td>1.204766e+06</td>\n",
       "      <td>77718.915777</td>\n",
       "      <td>76501.019602</td>\n",
       "      <td>1.408712e+06</td>\n",
       "      <td>3.160658e+05</td>\n",
       "      <td>42393.065881</td>\n",
       "    </tr>\n",
       "    <tr>\n",
       "      <th>min</th>\n",
       "      <td>1992.000000</td>\n",
       "      <td>3.823100e+05</td>\n",
       "      <td>6.185917e+06</td>\n",
       "      <td>5.254925e+06</td>\n",
       "      <td>4.788127e+06</td>\n",
       "      <td>5.279241e+06</td>\n",
       "      <td>-1.204495e+06</td>\n",
       "      <td>7.731060e+05</td>\n",
       "      <td>62951.000000</td>\n",
       "      <td>9.601400e+04</td>\n",
       "      <td>...</td>\n",
       "      <td>5.076550e+05</td>\n",
       "      <td>7788.000000</td>\n",
       "      <td>5.471620e+05</td>\n",
       "      <td>3.176601e+06</td>\n",
       "      <td>3.905510e+05</td>\n",
       "      <td>193752.000000</td>\n",
       "      <td>193752.000000</td>\n",
       "      <td>5.999880e+05</td>\n",
       "      <td>2.052270e+05</td>\n",
       "      <td>52292.000000</td>\n",
       "    </tr>\n",
       "    <tr>\n",
       "      <th>25%</th>\n",
       "      <td>1995.500000</td>\n",
       "      <td>5.784230e+05</td>\n",
       "      <td>8.811841e+06</td>\n",
       "      <td>6.375856e+06</td>\n",
       "      <td>5.772058e+06</td>\n",
       "      <td>7.391650e+06</td>\n",
       "      <td>1.287540e+06</td>\n",
       "      <td>1.212172e+06</td>\n",
       "      <td>88264.500000</td>\n",
       "      <td>1.333205e+05</td>\n",
       "      <td>...</td>\n",
       "      <td>8.524325e+05</td>\n",
       "      <td>12641.000000</td>\n",
       "      <td>6.313950e+05</td>\n",
       "      <td>3.826756e+06</td>\n",
       "      <td>5.612740e+05</td>\n",
       "      <td>241608.000000</td>\n",
       "      <td>231553.000000</td>\n",
       "      <td>7.958500e+05</td>\n",
       "      <td>3.310110e+05</td>\n",
       "      <td>62250.500000</td>\n",
       "    </tr>\n",
       "    <tr>\n",
       "      <th>50%</th>\n",
       "      <td>1999.000000</td>\n",
       "      <td>7.819520e+05</td>\n",
       "      <td>1.400788e+07</td>\n",
       "      <td>1.294487e+07</td>\n",
       "      <td>1.166884e+07</td>\n",
       "      <td>1.148701e+07</td>\n",
       "      <td>1.710360e+06</td>\n",
       "      <td>3.553541e+06</td>\n",
       "      <td>397429.000000</td>\n",
       "      <td>1.360764e+06</td>\n",
       "      <td>...</td>\n",
       "      <td>2.537627e+06</td>\n",
       "      <td>16039.000000</td>\n",
       "      <td>8.838520e+05</td>\n",
       "      <td>4.467074e+06</td>\n",
       "      <td>1.107068e+06</td>\n",
       "      <td>267648.000000</td>\n",
       "      <td>267537.000000</td>\n",
       "      <td>1.195567e+06</td>\n",
       "      <td>4.745710e+05</td>\n",
       "      <td>93163.000000</td>\n",
       "    </tr>\n",
       "    <tr>\n",
       "      <th>75%</th>\n",
       "      <td>2008.000000</td>\n",
       "      <td>1.746949e+06</td>\n",
       "      <td>2.478545e+07</td>\n",
       "      <td>2.517884e+07</td>\n",
       "      <td>2.235584e+07</td>\n",
       "      <td>2.048825e+07</td>\n",
       "      <td>3.184025e+06</td>\n",
       "      <td>8.051386e+06</td>\n",
       "      <td>485564.000000</td>\n",
       "      <td>2.067350e+06</td>\n",
       "      <td>...</td>\n",
       "      <td>5.945845e+06</td>\n",
       "      <td>22438.000000</td>\n",
       "      <td>1.361966e+06</td>\n",
       "      <td>7.530947e+06</td>\n",
       "      <td>2.540322e+06</td>\n",
       "      <td>353989.000000</td>\n",
       "      <td>353989.000000</td>\n",
       "      <td>2.805088e+06</td>\n",
       "      <td>7.273975e+05</td>\n",
       "      <td>126842.500000</td>\n",
       "    </tr>\n",
       "    <tr>\n",
       "      <th>max</th>\n",
       "      <td>2019.000000</td>\n",
       "      <td>2.454561e+06</td>\n",
       "      <td>3.548826e+07</td>\n",
       "      <td>3.442032e+07</td>\n",
       "      <td>3.062128e+07</td>\n",
       "      <td>3.019748e+07</td>\n",
       "      <td>6.360069e+06</td>\n",
       "      <td>1.127901e+07</td>\n",
       "      <td>575510.000000</td>\n",
       "      <td>2.747974e+06</td>\n",
       "      <td>...</td>\n",
       "      <td>8.448333e+06</td>\n",
       "      <td>31113.000000</td>\n",
       "      <td>2.017229e+06</td>\n",
       "      <td>1.009789e+07</td>\n",
       "      <td>3.566937e+06</td>\n",
       "      <td>472114.000000</td>\n",
       "      <td>451887.000000</td>\n",
       "      <td>5.401677e+06</td>\n",
       "      <td>1.220922e+06</td>\n",
       "      <td>200242.000000</td>\n",
       "    </tr>\n",
       "  </tbody>\n",
       "</table>\n",
       "<p>8 rows × 30 columns</p>\n",
       "</div>"
      ],
      "text/plain": [
       "              Year  Totals.Capital outlay  Totals.Revenue  Totals.Expenditure  \\\n",
       "count    31.000000           3.100000e+01    3.100000e+01        3.100000e+01   \n",
       "mean   2002.032258           1.118872e+06    1.683817e+07        1.612011e+07   \n",
       "std       8.708172           6.763169e+05    9.652711e+06        1.043335e+07   \n",
       "min    1992.000000           3.823100e+05    6.185917e+06        5.254925e+06   \n",
       "25%    1995.500000           5.784230e+05    8.811841e+06        6.375856e+06   \n",
       "50%    1999.000000           7.819520e+05    1.400788e+07        1.294487e+07   \n",
       "75%    2008.000000           1.746949e+06    2.478545e+07        2.517884e+07   \n",
       "max    2019.000000           2.454561e+06    3.548826e+07        3.442032e+07   \n",
       "\n",
       "       Totals.General expenditure  Totals.General revenue  \\\n",
       "count                3.100000e+01            3.100000e+01   \n",
       "mean                 1.441705e+07            1.425084e+07   \n",
       "std                  9.144599e+06            7.938721e+06   \n",
       "min                  4.788127e+06            5.279241e+06   \n",
       "25%                  5.772058e+06            7.391650e+06   \n",
       "50%                  1.166884e+07            1.148701e+07   \n",
       "75%                  2.235584e+07            2.048825e+07   \n",
       "max                  3.062128e+07            3.019748e+07   \n",
       "\n",
       "       Totals.Insurance trust  revenue  Totals.Intergovernmental  \\\n",
       "count                     3.100000e+01              3.100000e+01   \n",
       "mean                      2.436086e+06              4.765002e+06   \n",
       "std                       1.901563e+06              3.591183e+06   \n",
       "min                      -1.204495e+06              7.731060e+05   \n",
       "25%                       1.287540e+06              1.212172e+06   \n",
       "50%                       1.710360e+06              3.553541e+06   \n",
       "75%                       3.184025e+06              8.051386e+06   \n",
       "max                       6.360069e+06              1.127901e+07   \n",
       "\n",
       "       Totals.License tax  Totals.Selective sales tax  ...  \\\n",
       "count           31.000000                3.100000e+01  ...   \n",
       "mean        335696.870968                1.292052e+06  ...   \n",
       "std         187245.693137                9.489039e+05  ...   \n",
       "min          62951.000000                9.601400e+04  ...   \n",
       "25%          88264.500000                1.333205e+05  ...   \n",
       "50%         397429.000000                1.360764e+06  ...   \n",
       "75%         485564.000000                2.067350e+06  ...   \n",
       "max         575510.000000                2.747974e+06  ...   \n",
       "\n",
       "       Details.Welfare.Welfare Institution Total Expenditure  \\\n",
       "count                                       3.100000e+01       \n",
       "mean                                        3.553690e+06       \n",
       "std                                         2.853881e+06       \n",
       "min                                         5.076550e+05       \n",
       "25%                                         8.524325e+05       \n",
       "50%                                         2.537627e+06       \n",
       "75%                                         5.945845e+06       \n",
       "max                                         8.448333e+06       \n",
       "\n",
       "       Details.Natural Resources.Parks.Parks Total Expenditure  \\\n",
       "count                                          31.000000         \n",
       "mean                                        17244.322581         \n",
       "std                                          5952.768848         \n",
       "min                                          7788.000000         \n",
       "25%                                         12641.000000         \n",
       "50%                                         16039.000000         \n",
       "75%                                         22438.000000         \n",
       "max                                         31113.000000         \n",
       "\n",
       "       Details.Transportation.Highways.Highways Total Expenditure  \\\n",
       "count                                       3.100000e+01            \n",
       "mean                                        1.038395e+06            \n",
       "std                                         4.512075e+05            \n",
       "min                                         5.471620e+05            \n",
       "25%                                         6.313950e+05            \n",
       "50%                                         8.838520e+05            \n",
       "75%                                         1.361966e+06            \n",
       "max                                         2.017229e+06            \n",
       "\n",
       "       Totals. Debt at end of fiscal year  \\\n",
       "count                        3.100000e+01   \n",
       "mean                         5.618274e+06   \n",
       "std                          2.296225e+06   \n",
       "min                          3.176601e+06   \n",
       "25%                          3.826756e+06   \n",
       "50%                          4.467074e+06   \n",
       "75%                          7.530947e+06   \n",
       "max                          1.009789e+07   \n",
       "\n",
       "       Details.Insurance benefits and repayments  Details.Interest on debt  \\\n",
       "count                               3.100000e+01                 31.000000   \n",
       "mean                                1.548162e+06             296404.064516   \n",
       "std                                 1.204766e+06              77718.915777   \n",
       "min                                 3.905510e+05             193752.000000   \n",
       "25%                                 5.612740e+05             241608.000000   \n",
       "50%                                 1.107068e+06             267648.000000   \n",
       "75%                                 2.540322e+06             353989.000000   \n",
       "max                                 3.566937e+06             472114.000000   \n",
       "\n",
       "       Details.Interest on general debt  \\\n",
       "count                         31.000000   \n",
       "mean                      290999.193548   \n",
       "std                        76501.019602   \n",
       "min                       193752.000000   \n",
       "25%                       231553.000000   \n",
       "50%                       267537.000000   \n",
       "75%                       353989.000000   \n",
       "max                       451887.000000   \n",
       "\n",
       "       Details.Miscellaneous general revenue  Details.Other taxes  \\\n",
       "count                           3.100000e+01         3.100000e+01   \n",
       "mean                            1.883252e+06         5.556974e+05   \n",
       "std                             1.408712e+06         3.160658e+05   \n",
       "min                             5.999880e+05         2.052270e+05   \n",
       "25%                             7.958500e+05         3.310110e+05   \n",
       "50%                             1.195567e+06         4.745710e+05   \n",
       "75%                             2.805088e+06         7.273975e+05   \n",
       "max                             5.401677e+06         1.220922e+06   \n",
       "\n",
       "       Details.Police protection  \n",
       "count                  31.000000  \n",
       "mean               102376.612903  \n",
       "std                 42393.065881  \n",
       "min                 52292.000000  \n",
       "25%                 62250.500000  \n",
       "50%                 93163.000000  \n",
       "75%                126842.500000  \n",
       "max                200242.000000  \n",
       "\n",
       "[8 rows x 30 columns]"
      ]
     },
     "execution_count": 11,
     "metadata": {},
     "output_type": "execute_result"
    }
   ],
   "source": [
    "# Print out summary statistics about the dataframe\n",
    "\n",
    "df.describe() "
   ]
  },
  {
   "cell_type": "code",
   "execution_count": 12,
   "id": "9b5dfabd-61b3-4cda-80d4-7a20444afa25",
   "metadata": {},
   "outputs": [
    {
     "name": "stdout",
     "output_type": "stream",
     "text": [
      "      Year\n",
      "0     1992\n",
      "1     1993\n",
      "2     1994\n",
      "3     1995\n",
      "4     1996\n",
      "...    ...\n",
      "1046  2015\n",
      "1047  2016\n",
      "1048  2017\n",
      "1049  2018\n",
      "1050  2019\n",
      "\n",
      "[1051 rows x 1 columns]\n"
     ]
    }
   ],
   "source": [
    "# Choose a column and print out the column (it's ok if the output is abbreviated)\n",
    "\n",
    "df = pd.read_csv(\"finance.csv\", usecols = ['Year'])\n",
    "print(df)"
   ]
  },
  {
   "cell_type": "code",
   "execution_count": 13,
   "id": "0c5e2c07-0dff-4e78-bbb7-8faef3fdf758",
   "metadata": {},
   "outputs": [
    {
     "data": {
      "image/png": "[encoded data removed]",
      "text/plain": [
       "<Figure size 432x288 with 1 Axes>"
      ]
     },
     "metadata": {
      "needs_background": "light"
     },
     "output_type": "display_data"
    }
   ],
   "source": [
    "# Choose a column that has numeric values and make a line plot of the values\n",
    "\n",
    "import matplotlib.pyplot as plt\n",
    "\n",
    "df = pd.read_csv('finance.csv')\n",
    "\n",
    "pd.set_option(\"display.max.columns\", None)\n",
    "\n",
    "%matplotlib inline \n",
    "\n",
    "df.plot(x=\"Year\", y=[\"Totals.Revenue\"])\n",
    "\n",
    "plt.show()"
   ]
  },
  {
   "cell_type": "code",
   "execution_count": 16,
   "id": "6e7c7f92-3b6c-4cd0-a9ef-6356cb4c2ca5",
   "metadata": {},
   "outputs": [
    {
     "name": "stdout",
     "output_type": "stream",
     "text": [
      "Totals.Revenue\n",
      "10536166     664748\n",
      "11389335     781952\n",
      "11599362     767100\n",
      "12279726     808001\n",
      "12741148     760751\n",
      "14007883     770809\n",
      "14843951     755486\n",
      "15501093     851302\n",
      "16856646    1136551\n",
      "17859899    1214496\n",
      "Name: Totals.Capital outlay, dtype: int64\n"
     ]
    }
   ],
   "source": [
    "# Use \"loc\" to print out the first 10 elements of the plotted column\n",
    "\n",
    "data = pd.read_csv('finance.csv', index_col='Totals.Revenue')\n",
    "print(data.iloc[0:10, 2])"
   ]
  },
  {
   "cell_type": "code",
   "execution_count": 25,
   "id": "3a7b0251-f9e3-4f81-858d-d6c1c2b41e2d",
   "metadata": {},
   "outputs": [
    {
     "name": "stdout",
     "output_type": "stream",
     "text": [
      "Totals.Revenue\n",
      "10536166     664748\n",
      "11389335     781952\n",
      "11599362     767100\n",
      "12279726     808001\n",
      "12741148     760751\n",
      "14007883     770809\n",
      "14843951     755486\n",
      "15501093     851302\n",
      "16856646    1136551\n",
      "17859899    1214496\n",
      "Name: Totals.Capital outlay, dtype: int64\n",
      "Year\n",
      "1992    10536166\n",
      "1993    11389335\n",
      "1994    11599362\n",
      "1995    12279726\n",
      "1996    12741148\n",
      "1997    14007883\n",
      "1998    14843951\n",
      "1999    15501093\n",
      "2000    16856646\n",
      "2001    17859899\n",
      "Name: Totals.Revenue, dtype: int64\n"
     ]
    }
   ],
   "source": [
    "# Use \"loc\" to print out the first 10 elements of the plotted column\n",
    "# as well as the matching 10 elements of a different column that has interesting text\n",
    "\n",
    "data = pd.read_csv('finance.csv', index_col='Totals.Revenue')\n",
    "print(data.iloc[0:10, 2])\n",
    "\n",
    "data = pd.read_csv('finance.csv', index_col='Year')\n",
    "print(data.iloc[0:10, 2])"
   ]
  },
  {
   "cell_type": "code",
   "execution_count": 37,
   "id": "e2b2a59b-4246-40cc-b5de-728bd678b832",
   "metadata": {},
   "outputs": [
    {
     "data": {
      "text/plain": [
       "Text(0, 0.5, 'Dollars ( in thousands')"
      ]
     },
     "execution_count": 37,
     "metadata": {},
     "output_type": "execute_result"
    },
    {
     "data": {
      "image/png": "[encoded data removed]",
      "text/plain": [
       "<Figure size 432x288 with 1 Axes>"
      ]
     },
     "metadata": {
      "needs_background": "light"
     },
     "output_type": "display_data"
    }
   ],
   "source": [
    "# Assign the dataframe values from the previous cell into a new dataframe variable\n",
    "# and make a bar plot with the text values horizontally and the numeric values as the bar heights\n",
    "\n",
    "\n",
    "X = [1992, 1993, 1994, 1995, 1996, 1997, 1998, 1999, 2000, 2001]\n",
    "Y = [10536166, 11389335, 11599362, 12279726, 12741148, 14007883, 14843951,15501093, 16856646, 17859899]\n",
    "\n",
    "plt.bar(X, Y, color='b')\n",
    "plt.title(\"Revenue of Alabama from 1992 to 2001\")\n",
    "plt.xlabel(\"Years\")\n",
    "plt.ylabel(\"Dollars\")"
   ]
  },
  {
   "cell_type": "code",
   "execution_count": 38,
   "id": "46120796-845a-49b3-997f-b44825e375ea",
   "metadata": {},
   "outputs": [
    {
     "data": {
      "image/png": "[encoded data removed]",
      "text/plain": [
       "<Figure size 432x288 with 1 Axes>"
      ]
     },
     "metadata": {
      "needs_background": "light"
     },
     "output_type": "display_data"
    }
   ],
   "source": [
    "# Re-do the plot from the previous cell as a horizontal bar plot\n",
    "\n",
    "X = [1992, 1993, 1994, 1995, 1996, 1997, 1998, 1999, 2000, 2001]\n",
    "Y = [10536166, 11389335, 11599362, 12279726, 12741148, 14007883, 14843951,15501093, 16856646, 17859899]\n",
    "\n",
    "plt.barh(X, Y, color='b')\n",
    "plt.title(\"Revenue of Alabama from 1992 to 2001\")\n",
    "plt.xlabel(\"Years\")\n",
    "plt.ylabel(\"Dollars\")\n",
    "\n",
    "plt.show()"
   ]
  },
  {
   "cell_type": "code",
   "execution_count": 39,
   "id": "c8273eab-a2d6-445a-a92d-869375b82428",
   "metadata": {},
   "outputs": [
    {
     "data": {
      "text/plain": [
       "Text(0, 0.5, 'Dollars (in thousands)')"
      ]
     },
     "execution_count": 39,
     "metadata": {},
     "output_type": "execute_result"
    },
    {
     "data": {
      "image/png": "[encoded data removed]",
      "text/plain": [
       "<Figure size 432x288 with 1 Axes>"
      ]
     },
     "metadata": {
      "needs_background": "light"
     },
     "output_type": "display_data"
    }
   ],
   "source": [
    "# Re-do the plot from the previous cell\n",
    "# and change at least two aesthetic elements (colors, labels, titles, ...)\n",
    "\n",
    "X = [1992, 1993, 1994, 1995, 1996, 1997, 1998, 1999, 2000, 2001]\n",
    "Y = [10536166, 11389335, 11599362, 12279726, 12741148, 14007883, 14843951,15501093, 16856646, 17859899]\n",
    "\n",
    "plt.barh(X, Y, color='g')\n",
    "plt.title(\"Revenue of Alabama from 1992 to 2001\")\n",
    "plt.xlabel(\"Years\")\n",
    "plt.ylabel(\"Dollars (in thousands)\")"
   ]
  },
  {
   "cell_type": "markdown",
   "id": "48245e7e-c7b9-43ee-a8e2-d66502b899fc",
   "metadata": {},
   "source": [
    "# Free form section"
   ]
  },
  {
   "cell_type": "markdown",
   "id": "66503e37-f96a-4a25-aaf6-c7d8b9f8cbdd",
   "metadata": {},
   "source": [
    "* Choose another type of plot that interests you from the [pandas.DataFrame.plot documentation](https://pandas.pydata.org/docs/reference/api/pandas.DataFrame.plot.html#) [look at the 'kind' parameter] and make a new plot of your dataset values using the plot type"
   ]
  },
  {
   "cell_type": "code",
   "execution_count": 54,
   "id": "3fa0ce73-b09e-46a6-b1e7-2d68f2696f8d",
   "metadata": {},
   "outputs": [
    {
     "data": {
      "text/plain": [
       "<matplotlib.collections.PathCollection at 0x7fb94cf3afa0>"
      ]
     },
     "execution_count": 54,
     "metadata": {},
     "output_type": "execute_result"
    },
    {
     "data": {
      "image/png": "[encoded data removed]",
      "text/plain": [
       "<Figure size 432x288 with 1 Axes>"
      ]
     },
     "metadata": {
      "needs_background": "light"
     },
     "output_type": "display_data"
    }
   ],
   "source": [
    "year = [1992, 1993, 1994, 1995, 1996, 1997, 1998, 1999, 2000, 2001]\n",
    "rev = [10536166, 11389335, 11599362, 12279726, 12741148, 14007883, 14843951,15501093, 16856646, 17859899]\n",
    "\n",
    "df = pd.DataFrame({'length': [10536166, 11389335, 11599362, 12279726, 12741148, 14007883, 14843951,15501093, 16856646, 17859899],\n",
    "                   'width': [1992, 1993, 1994, 1995, 1996, 1997, 1998, 1999, 2000, 2001]})\n",
    "\n",
    "plt.scatter(x=[1992, 1993, 1994, 1995, 1996, 1997, 1998, 1999, 2000, 2001], \n",
    "                      y=[10536166, 11389335, 11599362, 12279726, 12741148, 14007883, 14843951,15501093, 16856646, 17859899], c='DarkBlue')"
   ]
  },
  {
   "cell_type": "markdown",
   "id": "6eb40e90-d302-49d1-a8a3-ed406d9b984d",
   "metadata": {},
   "source": [
    "* Copy some of your analysis from the Week 2 assignment into new cells below\n",
    "* Clean them up if desired, and make sure that you translate them to work with your new pandas dataframe structure here if needed\n",
    "* Create several plots to complement and extend your analysis"
   ]
  },
  {
   "cell_type": "code",
   "execution_count": 61,
   "id": "7d756a6d-3b15-48c0-b4ee-2a8772506dd2",
   "metadata": {},
   "outputs": [
    {
     "data": {
      "text/plain": [
       "<matplotlib.collections.PathCollection at 0x7fb94c98fca0>"
      ]
     },
     "execution_count": 61,
     "metadata": {},
     "output_type": "execute_result"
    },
    {
     "data": {
      "image/png": "[encoded data removed]",
      "text/plain": [
       "<Figure size 432x288 with 1 Axes>"
      ]
     },
     "metadata": {
      "needs_background": "light"
     },
     "output_type": "display_data"
    }
   ],
   "source": [
    "#Orginal Data from Assignment 2\n",
    "\n",
    "Revenue_of_California_Through_Time = [101998668, 108901718,115227902, 118303386, \n",
    "                                      123342274, 131099489, 144984973, 154016720, 172480675, \n",
    "                                      176080892, 151245388, 195545076, 229698348, 242002515, 312974848, \n",
    "                                      344302107, 317407713, 323312514, 404602274, 430760445, 436479413]\n",
    "\n",
    "Revenue_of_California_Through_Time_1991_2001 = [195545076, 229698348, 242002515, 312974848, \n",
    "                                      344302107, 317407713, 323312514, 404602274, 430760445, 436479413]\n",
    "\n",
    "\n",
    "\n",
    "plt.scatter(x=[1992, 1993, 1994, 1995, 1996, 1997, 1998, 1999, 2000, 2001], \n",
    "                      y= [195545076, 229698348, 242002515, 312974848,\n",
    "                          344302107, 317407713, 323312514, 404602274, 430760445, 436479413], c='DarkBlue')\n",
    "\n",
    "\n",
    "\n"
   ]
  },
  {
   "cell_type": "code",
   "execution_count": 62,
   "id": "55b87629-61ad-4096-950a-44790f2d4fd5",
   "metadata": {},
   "outputs": [
    {
     "data": {
      "text/plain": [
       "Text(0, 0.5, 'Dollars (in thousands)')"
      ]
     },
     "execution_count": 62,
     "metadata": {},
     "output_type": "execute_result"
    },
    {
     "data": {
      "image/png": "[encoded data removed]",
      "text/plain": [
       "<Figure size 432x288 with 1 Axes>"
      ]
     },
     "metadata": {
      "needs_background": "light"
     },
     "output_type": "display_data"
    }
   ],
   "source": [
    "X = [1992, 1993, 1994, 1995, 1996, 1997, 1998, 1999, 2000, 2001]\n",
    "Y = [195545076, 229698348, 242002515, 312974848, \n",
    "                                      344302107, 317407713, 323312514, 404602274, 430760445, 436479413]\n",
    "\n",
    "plt.barh(X, Y, color='g')\n",
    "plt.title(\"Revenue of California from 1992 to 2001\")\n",
    "plt.xlabel(\"Years\")\n",
    "plt.ylabel(\"Dollars (in thousands)\")"
   ]
  },
  {
   "cell_type": "code",
   "execution_count": 74,
   "id": "aa41976c-e206-43ad-906a-d11c1ab1b496",
   "metadata": {},
   "outputs": [
    {
     "data": {
      "image/png": "[encoded data removed]",
      "text/plain": [
       "<Figure size 432x288 with 1 Axes>"
      ]
     },
     "metadata": {
      "needs_background": "light"
     },
     "output_type": "display_data"
    }
   ],
   "source": [
    "X = [1992, 1993, 1994, 1995, 1996, 1997, 1998, 1999, 2000, 2001]\n",
    "Y = [c]\n",
    "\n",
    "s = pd.Series([195545076, 229698348, 242002515, 312974848, 344302107, 317407713, 323312514, 404602274, 430760445, 436479413])\n",
    "ax = s.plot.kde()\n",
    "\n"
   ]
  },
  {
   "cell_type": "code",
   "execution_count": 77,
   "id": "2de738c3-49ce-4be2-bec3-9fdcc09d84e9",
   "metadata": {},
   "outputs": [
    {
     "data": {
      "text/plain": [
       "<AxesSubplot:>"
      ]
     },
     "execution_count": 77,
     "metadata": {},
     "output_type": "execute_result"
    },
    {
     "data": {
      "image/png": "[encoded data removed]",
      "text/plain": [
       "<Figure size 432x288 with 1 Axes>"
      ]
     },
     "metadata": {
      "needs_background": "light"
     },
     "output_type": "display_data"
    }
   ],
   "source": [
    "s = pd.Series([195545076, 229698348, 242002515, 312974848, 344302107, 317407713, 323312514, 404602274, 430760445, 436479413])\n",
    "s.plot.line()"
   ]
  },
  {
   "cell_type": "code",
   "execution_count": null,
   "id": "f59b7239-06de-4ea0-b184-d075ddc349a5",
   "metadata": {},
   "outputs": [],
   "source": []
  }
 ],
 "metadata": {
  "kernelspec": {
   "display_name": "Python 3 (ipykernel)",
   "language": "python",
   "name": "python3"
  },
  "language_info": {
   "codemirror_mode": {
    "name": "ipython",
    "version": 3
   },
   "file_extension": ".py",
   "mimetype": "text/x-python",
   "name": "python",
   "nbconvert_exporter": "python",
   "pygments_lexer": "ipython3",
   "version": "3.9.6"
  }
 },
 "nbformat": 4,
 "nbformat_minor": 5
}
